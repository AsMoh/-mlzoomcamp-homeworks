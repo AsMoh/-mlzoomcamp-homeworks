{
 "cells": [
  {
   "cell_type": "markdown",
   "id": "fc0f9379",
   "metadata": {},
   "source": [
    "The goal of this homework is to inspect the output of different evaluation metrics by creating a classification model (target column card).\n",
    "\n",
    "### Preparation\n",
    "- Create the target variable by mapping yes to 1 and no to 0.\n",
    "Split the dataset into 3 parts: train/validation/test with 60%/20%/20% distribution.Use train_test_split funciton for that with random_state=1."
   ]
  },
  {
   "cell_type": "code",
   "execution_count": 309,
   "id": "e718558a",
   "metadata": {},
   "outputs": [],
   "source": [
    "import numpy as np\n",
    "import pandas as pd\n",
    "from sklearn.model_selection import train_test_split"
   ]
  },
  {
   "cell_type": "code",
   "execution_count": 310,
   "id": "ac7b4fb5",
   "metadata": {},
   "outputs": [],
   "source": [
    "data=pd.read_csv('AER_credit_card_data.csv')"
   ]
  },
  {
   "cell_type": "code",
   "execution_count": 311,
   "id": "29ae5d13",
   "metadata": {},
   "outputs": [
    {
     "data": {
      "text/html": [
       "<div>\n",
       "<style scoped>\n",
       "    .dataframe tbody tr th:only-of-type {\n",
       "        vertical-align: middle;\n",
       "    }\n",
       "\n",
       "    .dataframe tbody tr th {\n",
       "        vertical-align: top;\n",
       "    }\n",
       "\n",
       "    .dataframe thead th {\n",
       "        text-align: right;\n",
       "    }\n",
       "</style>\n",
       "<table border=\"1\" class=\"dataframe\">\n",
       "  <thead>\n",
       "    <tr style=\"text-align: right;\">\n",
       "      <th></th>\n",
       "      <th>card</th>\n",
       "      <th>reports</th>\n",
       "      <th>age</th>\n",
       "      <th>income</th>\n",
       "      <th>share</th>\n",
       "      <th>expenditure</th>\n",
       "      <th>owner</th>\n",
       "      <th>selfemp</th>\n",
       "      <th>dependents</th>\n",
       "      <th>months</th>\n",
       "      <th>majorcards</th>\n",
       "      <th>active</th>\n",
       "    </tr>\n",
       "  </thead>\n",
       "  <tbody>\n",
       "    <tr>\n",
       "      <th>0</th>\n",
       "      <td>yes</td>\n",
       "      <td>0</td>\n",
       "      <td>37.66667</td>\n",
       "      <td>4.5200</td>\n",
       "      <td>0.033270</td>\n",
       "      <td>124.983300</td>\n",
       "      <td>yes</td>\n",
       "      <td>no</td>\n",
       "      <td>3</td>\n",
       "      <td>54</td>\n",
       "      <td>1</td>\n",
       "      <td>12</td>\n",
       "    </tr>\n",
       "    <tr>\n",
       "      <th>1</th>\n",
       "      <td>yes</td>\n",
       "      <td>0</td>\n",
       "      <td>33.25000</td>\n",
       "      <td>2.4200</td>\n",
       "      <td>0.005217</td>\n",
       "      <td>9.854167</td>\n",
       "      <td>no</td>\n",
       "      <td>no</td>\n",
       "      <td>3</td>\n",
       "      <td>34</td>\n",
       "      <td>1</td>\n",
       "      <td>13</td>\n",
       "    </tr>\n",
       "    <tr>\n",
       "      <th>2</th>\n",
       "      <td>yes</td>\n",
       "      <td>0</td>\n",
       "      <td>33.66667</td>\n",
       "      <td>4.5000</td>\n",
       "      <td>0.004156</td>\n",
       "      <td>15.000000</td>\n",
       "      <td>yes</td>\n",
       "      <td>no</td>\n",
       "      <td>4</td>\n",
       "      <td>58</td>\n",
       "      <td>1</td>\n",
       "      <td>5</td>\n",
       "    </tr>\n",
       "    <tr>\n",
       "      <th>3</th>\n",
       "      <td>yes</td>\n",
       "      <td>0</td>\n",
       "      <td>30.50000</td>\n",
       "      <td>2.5400</td>\n",
       "      <td>0.065214</td>\n",
       "      <td>137.869200</td>\n",
       "      <td>no</td>\n",
       "      <td>no</td>\n",
       "      <td>0</td>\n",
       "      <td>25</td>\n",
       "      <td>1</td>\n",
       "      <td>7</td>\n",
       "    </tr>\n",
       "    <tr>\n",
       "      <th>4</th>\n",
       "      <td>yes</td>\n",
       "      <td>0</td>\n",
       "      <td>32.16667</td>\n",
       "      <td>9.7867</td>\n",
       "      <td>0.067051</td>\n",
       "      <td>546.503300</td>\n",
       "      <td>yes</td>\n",
       "      <td>no</td>\n",
       "      <td>2</td>\n",
       "      <td>64</td>\n",
       "      <td>1</td>\n",
       "      <td>5</td>\n",
       "    </tr>\n",
       "    <tr>\n",
       "      <th>...</th>\n",
       "      <td>...</td>\n",
       "      <td>...</td>\n",
       "      <td>...</td>\n",
       "      <td>...</td>\n",
       "      <td>...</td>\n",
       "      <td>...</td>\n",
       "      <td>...</td>\n",
       "      <td>...</td>\n",
       "      <td>...</td>\n",
       "      <td>...</td>\n",
       "      <td>...</td>\n",
       "      <td>...</td>\n",
       "    </tr>\n",
       "    <tr>\n",
       "      <th>1314</th>\n",
       "      <td>yes</td>\n",
       "      <td>0</td>\n",
       "      <td>33.58333</td>\n",
       "      <td>4.5660</td>\n",
       "      <td>0.002146</td>\n",
       "      <td>7.333333</td>\n",
       "      <td>yes</td>\n",
       "      <td>no</td>\n",
       "      <td>0</td>\n",
       "      <td>94</td>\n",
       "      <td>1</td>\n",
       "      <td>19</td>\n",
       "    </tr>\n",
       "    <tr>\n",
       "      <th>1315</th>\n",
       "      <td>no</td>\n",
       "      <td>5</td>\n",
       "      <td>23.91667</td>\n",
       "      <td>3.1920</td>\n",
       "      <td>0.000376</td>\n",
       "      <td>0.000000</td>\n",
       "      <td>no</td>\n",
       "      <td>no</td>\n",
       "      <td>3</td>\n",
       "      <td>12</td>\n",
       "      <td>1</td>\n",
       "      <td>5</td>\n",
       "    </tr>\n",
       "    <tr>\n",
       "      <th>1316</th>\n",
       "      <td>yes</td>\n",
       "      <td>0</td>\n",
       "      <td>40.58333</td>\n",
       "      <td>4.6000</td>\n",
       "      <td>0.026513</td>\n",
       "      <td>101.298300</td>\n",
       "      <td>yes</td>\n",
       "      <td>no</td>\n",
       "      <td>2</td>\n",
       "      <td>1</td>\n",
       "      <td>1</td>\n",
       "      <td>2</td>\n",
       "    </tr>\n",
       "    <tr>\n",
       "      <th>1317</th>\n",
       "      <td>yes</td>\n",
       "      <td>0</td>\n",
       "      <td>32.83333</td>\n",
       "      <td>3.7000</td>\n",
       "      <td>0.008999</td>\n",
       "      <td>26.996670</td>\n",
       "      <td>no</td>\n",
       "      <td>yes</td>\n",
       "      <td>0</td>\n",
       "      <td>60</td>\n",
       "      <td>1</td>\n",
       "      <td>7</td>\n",
       "    </tr>\n",
       "    <tr>\n",
       "      <th>1318</th>\n",
       "      <td>yes</td>\n",
       "      <td>0</td>\n",
       "      <td>48.25000</td>\n",
       "      <td>3.7000</td>\n",
       "      <td>0.111619</td>\n",
       "      <td>344.157500</td>\n",
       "      <td>yes</td>\n",
       "      <td>no</td>\n",
       "      <td>2</td>\n",
       "      <td>2</td>\n",
       "      <td>1</td>\n",
       "      <td>0</td>\n",
       "    </tr>\n",
       "  </tbody>\n",
       "</table>\n",
       "<p>1319 rows × 12 columns</p>\n",
       "</div>"
      ],
      "text/plain": [
       "     card  reports       age  income     share  expenditure owner selfemp  \\\n",
       "0     yes        0  37.66667  4.5200  0.033270   124.983300   yes      no   \n",
       "1     yes        0  33.25000  2.4200  0.005217     9.854167    no      no   \n",
       "2     yes        0  33.66667  4.5000  0.004156    15.000000   yes      no   \n",
       "3     yes        0  30.50000  2.5400  0.065214   137.869200    no      no   \n",
       "4     yes        0  32.16667  9.7867  0.067051   546.503300   yes      no   \n",
       "...   ...      ...       ...     ...       ...          ...   ...     ...   \n",
       "1314  yes        0  33.58333  4.5660  0.002146     7.333333   yes      no   \n",
       "1315   no        5  23.91667  3.1920  0.000376     0.000000    no      no   \n",
       "1316  yes        0  40.58333  4.6000  0.026513   101.298300   yes      no   \n",
       "1317  yes        0  32.83333  3.7000  0.008999    26.996670    no     yes   \n",
       "1318  yes        0  48.25000  3.7000  0.111619   344.157500   yes      no   \n",
       "\n",
       "      dependents  months  majorcards  active  \n",
       "0              3      54           1      12  \n",
       "1              3      34           1      13  \n",
       "2              4      58           1       5  \n",
       "3              0      25           1       7  \n",
       "4              2      64           1       5  \n",
       "...          ...     ...         ...     ...  \n",
       "1314           0      94           1      19  \n",
       "1315           3      12           1       5  \n",
       "1316           2       1           1       2  \n",
       "1317           0      60           1       7  \n",
       "1318           2       2           1       0  \n",
       "\n",
       "[1319 rows x 12 columns]"
      ]
     },
     "execution_count": 311,
     "metadata": {},
     "output_type": "execute_result"
    }
   ],
   "source": [
    "df=data.copy()\n",
    "df"
   ]
  },
  {
   "cell_type": "code",
   "execution_count": 312,
   "id": "d0604c7c",
   "metadata": {},
   "outputs": [],
   "source": [
    "df['target']= (df['card'] == 'yes').astype(int)"
   ]
  },
  {
   "cell_type": "code",
   "execution_count": 313,
   "id": "c7a94a0f",
   "metadata": {},
   "outputs": [],
   "source": [
    "df.drop(['card'], inplace= True , axis=1)"
   ]
  },
  {
   "cell_type": "code",
   "execution_count": 314,
   "id": "70cb4530",
   "metadata": {},
   "outputs": [
    {
     "data": {
      "text/html": [
       "<div>\n",
       "<style scoped>\n",
       "    .dataframe tbody tr th:only-of-type {\n",
       "        vertical-align: middle;\n",
       "    }\n",
       "\n",
       "    .dataframe tbody tr th {\n",
       "        vertical-align: top;\n",
       "    }\n",
       "\n",
       "    .dataframe thead th {\n",
       "        text-align: right;\n",
       "    }\n",
       "</style>\n",
       "<table border=\"1\" class=\"dataframe\">\n",
       "  <thead>\n",
       "    <tr style=\"text-align: right;\">\n",
       "      <th></th>\n",
       "      <th>reports</th>\n",
       "      <th>age</th>\n",
       "      <th>income</th>\n",
       "      <th>share</th>\n",
       "      <th>expenditure</th>\n",
       "      <th>owner</th>\n",
       "      <th>selfemp</th>\n",
       "      <th>dependents</th>\n",
       "      <th>months</th>\n",
       "      <th>majorcards</th>\n",
       "      <th>active</th>\n",
       "      <th>target</th>\n",
       "    </tr>\n",
       "  </thead>\n",
       "  <tbody>\n",
       "    <tr>\n",
       "      <th>0</th>\n",
       "      <td>0</td>\n",
       "      <td>37.66667</td>\n",
       "      <td>4.5200</td>\n",
       "      <td>0.033270</td>\n",
       "      <td>124.983300</td>\n",
       "      <td>yes</td>\n",
       "      <td>no</td>\n",
       "      <td>3</td>\n",
       "      <td>54</td>\n",
       "      <td>1</td>\n",
       "      <td>12</td>\n",
       "      <td>1</td>\n",
       "    </tr>\n",
       "    <tr>\n",
       "      <th>1</th>\n",
       "      <td>0</td>\n",
       "      <td>33.25000</td>\n",
       "      <td>2.4200</td>\n",
       "      <td>0.005217</td>\n",
       "      <td>9.854167</td>\n",
       "      <td>no</td>\n",
       "      <td>no</td>\n",
       "      <td>3</td>\n",
       "      <td>34</td>\n",
       "      <td>1</td>\n",
       "      <td>13</td>\n",
       "      <td>1</td>\n",
       "    </tr>\n",
       "    <tr>\n",
       "      <th>2</th>\n",
       "      <td>0</td>\n",
       "      <td>33.66667</td>\n",
       "      <td>4.5000</td>\n",
       "      <td>0.004156</td>\n",
       "      <td>15.000000</td>\n",
       "      <td>yes</td>\n",
       "      <td>no</td>\n",
       "      <td>4</td>\n",
       "      <td>58</td>\n",
       "      <td>1</td>\n",
       "      <td>5</td>\n",
       "      <td>1</td>\n",
       "    </tr>\n",
       "    <tr>\n",
       "      <th>3</th>\n",
       "      <td>0</td>\n",
       "      <td>30.50000</td>\n",
       "      <td>2.5400</td>\n",
       "      <td>0.065214</td>\n",
       "      <td>137.869200</td>\n",
       "      <td>no</td>\n",
       "      <td>no</td>\n",
       "      <td>0</td>\n",
       "      <td>25</td>\n",
       "      <td>1</td>\n",
       "      <td>7</td>\n",
       "      <td>1</td>\n",
       "    </tr>\n",
       "    <tr>\n",
       "      <th>4</th>\n",
       "      <td>0</td>\n",
       "      <td>32.16667</td>\n",
       "      <td>9.7867</td>\n",
       "      <td>0.067051</td>\n",
       "      <td>546.503300</td>\n",
       "      <td>yes</td>\n",
       "      <td>no</td>\n",
       "      <td>2</td>\n",
       "      <td>64</td>\n",
       "      <td>1</td>\n",
       "      <td>5</td>\n",
       "      <td>1</td>\n",
       "    </tr>\n",
       "    <tr>\n",
       "      <th>...</th>\n",
       "      <td>...</td>\n",
       "      <td>...</td>\n",
       "      <td>...</td>\n",
       "      <td>...</td>\n",
       "      <td>...</td>\n",
       "      <td>...</td>\n",
       "      <td>...</td>\n",
       "      <td>...</td>\n",
       "      <td>...</td>\n",
       "      <td>...</td>\n",
       "      <td>...</td>\n",
       "      <td>...</td>\n",
       "    </tr>\n",
       "    <tr>\n",
       "      <th>1314</th>\n",
       "      <td>0</td>\n",
       "      <td>33.58333</td>\n",
       "      <td>4.5660</td>\n",
       "      <td>0.002146</td>\n",
       "      <td>7.333333</td>\n",
       "      <td>yes</td>\n",
       "      <td>no</td>\n",
       "      <td>0</td>\n",
       "      <td>94</td>\n",
       "      <td>1</td>\n",
       "      <td>19</td>\n",
       "      <td>1</td>\n",
       "    </tr>\n",
       "    <tr>\n",
       "      <th>1315</th>\n",
       "      <td>5</td>\n",
       "      <td>23.91667</td>\n",
       "      <td>3.1920</td>\n",
       "      <td>0.000376</td>\n",
       "      <td>0.000000</td>\n",
       "      <td>no</td>\n",
       "      <td>no</td>\n",
       "      <td>3</td>\n",
       "      <td>12</td>\n",
       "      <td>1</td>\n",
       "      <td>5</td>\n",
       "      <td>0</td>\n",
       "    </tr>\n",
       "    <tr>\n",
       "      <th>1316</th>\n",
       "      <td>0</td>\n",
       "      <td>40.58333</td>\n",
       "      <td>4.6000</td>\n",
       "      <td>0.026513</td>\n",
       "      <td>101.298300</td>\n",
       "      <td>yes</td>\n",
       "      <td>no</td>\n",
       "      <td>2</td>\n",
       "      <td>1</td>\n",
       "      <td>1</td>\n",
       "      <td>2</td>\n",
       "      <td>1</td>\n",
       "    </tr>\n",
       "    <tr>\n",
       "      <th>1317</th>\n",
       "      <td>0</td>\n",
       "      <td>32.83333</td>\n",
       "      <td>3.7000</td>\n",
       "      <td>0.008999</td>\n",
       "      <td>26.996670</td>\n",
       "      <td>no</td>\n",
       "      <td>yes</td>\n",
       "      <td>0</td>\n",
       "      <td>60</td>\n",
       "      <td>1</td>\n",
       "      <td>7</td>\n",
       "      <td>1</td>\n",
       "    </tr>\n",
       "    <tr>\n",
       "      <th>1318</th>\n",
       "      <td>0</td>\n",
       "      <td>48.25000</td>\n",
       "      <td>3.7000</td>\n",
       "      <td>0.111619</td>\n",
       "      <td>344.157500</td>\n",
       "      <td>yes</td>\n",
       "      <td>no</td>\n",
       "      <td>2</td>\n",
       "      <td>2</td>\n",
       "      <td>1</td>\n",
       "      <td>0</td>\n",
       "      <td>1</td>\n",
       "    </tr>\n",
       "  </tbody>\n",
       "</table>\n",
       "<p>1319 rows × 12 columns</p>\n",
       "</div>"
      ],
      "text/plain": [
       "      reports       age  income     share  expenditure owner selfemp  \\\n",
       "0           0  37.66667  4.5200  0.033270   124.983300   yes      no   \n",
       "1           0  33.25000  2.4200  0.005217     9.854167    no      no   \n",
       "2           0  33.66667  4.5000  0.004156    15.000000   yes      no   \n",
       "3           0  30.50000  2.5400  0.065214   137.869200    no      no   \n",
       "4           0  32.16667  9.7867  0.067051   546.503300   yes      no   \n",
       "...       ...       ...     ...       ...          ...   ...     ...   \n",
       "1314        0  33.58333  4.5660  0.002146     7.333333   yes      no   \n",
       "1315        5  23.91667  3.1920  0.000376     0.000000    no      no   \n",
       "1316        0  40.58333  4.6000  0.026513   101.298300   yes      no   \n",
       "1317        0  32.83333  3.7000  0.008999    26.996670    no     yes   \n",
       "1318        0  48.25000  3.7000  0.111619   344.157500   yes      no   \n",
       "\n",
       "      dependents  months  majorcards  active  target  \n",
       "0              3      54           1      12       1  \n",
       "1              3      34           1      13       1  \n",
       "2              4      58           1       5       1  \n",
       "3              0      25           1       7       1  \n",
       "4              2      64           1       5       1  \n",
       "...          ...     ...         ...     ...     ...  \n",
       "1314           0      94           1      19       1  \n",
       "1315           3      12           1       5       0  \n",
       "1316           2       1           1       2       1  \n",
       "1317           0      60           1       7       1  \n",
       "1318           2       2           1       0       1  \n",
       "\n",
       "[1319 rows x 12 columns]"
      ]
     },
     "execution_count": 314,
     "metadata": {},
     "output_type": "execute_result"
    }
   ],
   "source": [
    "df"
   ]
  },
  {
   "cell_type": "code",
   "execution_count": 315,
   "id": "dd550a56",
   "metadata": {},
   "outputs": [],
   "source": [
    "df_full_train, df_val=train_test_split(df, test_size=0.20, random_state=1)"
   ]
  },
  {
   "cell_type": "code",
   "execution_count": 316,
   "id": "6620a449",
   "metadata": {},
   "outputs": [],
   "source": [
    "df_train, df_test=train_test_split(df_full_train, test_size=0.25, random_state=1)"
   ]
  },
  {
   "cell_type": "code",
   "execution_count": 317,
   "id": "8fbc88c5",
   "metadata": {},
   "outputs": [],
   "source": [
    "y_train=df_train.target.values\n",
    "y_val=df_val.target.values\n",
    "y_test=df_test.target.values"
   ]
  },
  {
   "cell_type": "code",
   "execution_count": 318,
   "id": "593db747",
   "metadata": {},
   "outputs": [],
   "source": [
    "del df_train['target']\n",
    "del df_val['target']\n",
    "del df_test['target']\n",
    "\n"
   ]
  },
  {
   "cell_type": "code",
   "execution_count": 319,
   "id": "14464be0",
   "metadata": {
    "scrolled": true
   },
   "outputs": [],
   "source": [
    "df_train = df_train.reset_index(drop=True)\n",
    "df_val = df_val.reset_index(drop=True)\n",
    "df_test = df_test.reset_index(drop=True)"
   ]
  },
  {
   "cell_type": "markdown",
   "id": "4e544b91",
   "metadata": {},
   "source": [
    "### Question 1\n",
    "ROC AUC could also be used to evaluate feature importance of numerical variables.\n",
    "\n",
    "Let's do that <br>\n",
    "\n",
    "For each numerical variable, use it as score and compute AUC with the card variable. <br>\n",
    "Use the training dataset for that.  <br>\n",
    "If your AUC is < 0.5, invert this variable by putting \"-\" in front  <br>\n",
    "\n",
    "(e.g. -df_train['expenditure']) <br>\n",
    "\n",
    "AUC can go below 0.5 if the variable is negatively correlated with the target varialble. You can change the direction of the correlation by negating this variable - then negative correlation becomes positive."
   ]
  },
  {
   "cell_type": "code",
   "execution_count": 320,
   "id": "8f7558d1",
   "metadata": {},
   "outputs": [
    {
     "name": "stdout",
     "output_type": "stream",
     "text": [
      "<class 'pandas.core.frame.DataFrame'>\n",
      "RangeIndex: 791 entries, 0 to 790\n",
      "Data columns (total 11 columns):\n",
      " #   Column       Non-Null Count  Dtype  \n",
      "---  ------       --------------  -----  \n",
      " 0   reports      791 non-null    int64  \n",
      " 1   age          791 non-null    float64\n",
      " 2   income       791 non-null    float64\n",
      " 3   share        791 non-null    float64\n",
      " 4   expenditure  791 non-null    float64\n",
      " 5   owner        791 non-null    object \n",
      " 6   selfemp      791 non-null    object \n",
      " 7   dependents   791 non-null    int64  \n",
      " 8   months       791 non-null    int64  \n",
      " 9   majorcards   791 non-null    int64  \n",
      " 10  active       791 non-null    int64  \n",
      "dtypes: float64(4), int64(5), object(2)\n",
      "memory usage: 68.1+ KB\n"
     ]
    }
   ],
   "source": [
    "df_train.info()"
   ]
  },
  {
   "cell_type": "code",
   "execution_count": 321,
   "id": "2c77abee",
   "metadata": {},
   "outputs": [
    {
     "data": {
      "text/plain": [
       "reports        False\n",
       "age             True\n",
       "income          True\n",
       "share           True\n",
       "expenditure     True\n",
       "owner          False\n",
       "selfemp        False\n",
       "dependents     False\n",
       "months         False\n",
       "majorcards     False\n",
       "active         False\n",
       "dtype: bool"
      ]
     },
     "execution_count": 321,
     "metadata": {},
     "output_type": "execute_result"
    }
   ],
   "source": [
    "df_train.dtypes == np.number"
   ]
  },
  {
   "cell_type": "code",
   "execution_count": 322,
   "id": "4cd61b6b",
   "metadata": {
    "scrolled": true
   },
   "outputs": [
    {
     "data": {
      "text/plain": [
       "['reports',\n",
       " 'age',\n",
       " 'income',\n",
       " 'share',\n",
       " 'expenditure',\n",
       " 'dependents',\n",
       " 'months',\n",
       " 'majorcards',\n",
       " 'active']"
      ]
     },
     "execution_count": 322,
     "metadata": {},
     "output_type": "execute_result"
    }
   ],
   "source": [
    "numerical_features= list(df_train.drop(['owner','selfemp'], axis=1).columns)\n",
    "numerical_features"
   ]
  },
  {
   "cell_type": "code",
   "execution_count": 323,
   "id": "b8d44151",
   "metadata": {},
   "outputs": [],
   "source": [
    "from sklearn.metrics import auc, roc_curve"
   ]
  },
  {
   "cell_type": "code",
   "execution_count": 324,
   "id": "96c21533",
   "metadata": {},
   "outputs": [
    {
     "name": "stdout",
     "output_type": "stream",
     "text": [
      "reports\n",
      "0.7166629860689376\n",
      "\n",
      "age\n",
      "0.5240020979407055\n",
      "\n",
      "income\n",
      "0.5908049467233478\n",
      "\n",
      "share\n",
      "0.989183643423692\n",
      "\n",
      "expenditure\n",
      "0.991042345276873\n",
      "\n",
      "dependents\n",
      "0.5327757227773791\n",
      "\n",
      "months\n",
      "0.5294217780967629\n",
      "\n",
      "majorcards\n",
      "0.5343859842838476\n",
      "\n",
      "active\n",
      "0.6043173411362006\n",
      "\n"
     ]
    }
   ],
   "source": [
    "sc=[]\n",
    "for i in numerical_features:\n",
    "    print(i)\n",
    "    fps, tps, thresholds=roc_curve(y_train,df_train[i].values)\n",
    "    auc1=auc(fps,tps)\n",
    "    if auc1 < 0.5:\n",
    "        fps, tps, thresholds=roc_curve(y_train,-df_train[i].values)\n",
    "        auc1=auc(fps,tps)\n",
    "    print(auc1)\n",
    "    print()\n",
    "    sc.append(auc1)\n",
    "    "
   ]
  },
  {
   "cell_type": "code",
   "execution_count": 325,
   "id": "2ca323fc",
   "metadata": {},
   "outputs": [
    {
     "data": {
      "text/plain": [
       "4"
      ]
     },
     "execution_count": 325,
     "metadata": {},
     "output_type": "execute_result"
    }
   ],
   "source": [
    "np.argmax(sc)"
   ]
  },
  {
   "cell_type": "code",
   "execution_count": 326,
   "id": "34f3af87",
   "metadata": {},
   "outputs": [
    {
     "name": "stdout",
     "output_type": "stream",
     "text": [
      "expenditure\n"
     ]
    }
   ],
   "source": [
    "print(numerical_features[4])"
   ]
  },
  {
   "cell_type": "code",
   "execution_count": 327,
   "id": "e2b55e40",
   "metadata": {},
   "outputs": [],
   "source": [
    "from sklearn.metrics import roc_auc_score"
   ]
  },
  {
   "cell_type": "code",
   "execution_count": 328,
   "id": "e42028b8",
   "metadata": {},
   "outputs": [
    {
     "name": "stdout",
     "output_type": "stream",
     "text": [
      "  reports, 0.717\n",
      "      age, 0.524\n",
      "   income, 0.591\n",
      "    share, 0.989\n",
      "expenditure, 0.991\n",
      "dependents, 0.533\n",
      "   months, 0.529\n",
      "majorcards, 0.534\n",
      "   active, 0.604\n"
     ]
    }
   ],
   "source": [
    "for c in numerical_features:\n",
    "    auc = roc_auc_score(y_train, df_train[c])\n",
    "    if auc < 0.5:\n",
    "        auc = roc_auc_score(y_train, -df_train[c])\n",
    "    print('%9s, %.3f' % (c, auc))"
   ]
  },
  {
   "cell_type": "markdown",
   "id": "4a4815ef",
   "metadata": {},
   "source": [
    "Since expenditure is not in the list, share is the answer"
   ]
  },
  {
   "cell_type": "markdown",
   "id": "636dfc3f",
   "metadata": {},
   "source": [
    "### Training the model\n",
    "From now on, use these columns only: <br>\n",
    "\n",
    "[\"reports\", \"age\", \"income\", \"share\", \"expenditure\", \"dependents\", \"months\", \"majorcards\", \"active\", \"owner\", \"selfemp\"] <br>\n",
    "Apply one-hot-encoding using DictVectorizer and train the logistic regression with these parameters:  <br>\n",
    "\n",
    "LogisticRegression(solver='liblinear', C=1.0, max_iter=1000)"
   ]
  },
  {
   "cell_type": "code",
   "execution_count": 329,
   "id": "ea18b81e",
   "metadata": {},
   "outputs": [],
   "source": [
    "from sklearn.linear_model import LogisticRegression"
   ]
  },
  {
   "cell_type": "code",
   "execution_count": 330,
   "id": "e85f7688",
   "metadata": {},
   "outputs": [],
   "source": [
    "from sklearn.feature_extraction import DictVectorizer"
   ]
  },
  {
   "cell_type": "code",
   "execution_count": 331,
   "id": "ccea82cc",
   "metadata": {},
   "outputs": [],
   "source": [
    "def encode_and_train (df1, y):\n",
    "    dictVec=DictVectorizer(sparse=False)\n",
    "    X_dict=df1.to_dict(orient='records')\n",
    "    X_train=dictVec.fit_transform(X_dict)\n",
    "    \n",
    "    logR=LogisticRegression(solver='liblinear', C=1.0, max_iter=1000)\n",
    "    logR.fit(X_train,y_train)\n",
    "    \n",
    "    return dictVec, logR"
   ]
  },
  {
   "cell_type": "code",
   "execution_count": 332,
   "id": "8fae9b65",
   "metadata": {},
   "outputs": [
    {
     "data": {
      "text/plain": [
       "array([2.36356852e-01, 1.00000000e+00, 1.00000000e+00, 1.00000000e+00,\n",
       "       1.00000000e+00, 9.99999936e-01, 1.00000000e+00, 1.00000000e+00,\n",
       "       1.00000000e+00, 1.00000000e+00, 1.00000000e+00, 1.00000000e+00,\n",
       "       1.00000000e+00, 1.00000000e+00, 1.00000000e+00, 1.00000000e+00,\n",
       "       5.78398811e-02, 6.60333401e-02, 1.00000000e+00, 1.00000000e+00,\n",
       "       1.00000000e+00, 1.17511543e-04, 1.20591533e-01, 1.00000000e+00,\n",
       "       5.78889947e-02, 1.00000000e+00, 1.00000000e+00, 1.00000000e+00,\n",
       "       1.00000000e+00, 1.00000000e+00, 1.00000000e+00, 1.00000000e+00,\n",
       "       1.00000000e+00, 1.00000000e+00, 1.00000000e+00, 1.00000000e+00,\n",
       "       9.96988601e-01, 1.00000000e+00, 9.96331601e-04, 1.00000000e+00,\n",
       "       1.86266071e-01, 2.33773019e-02, 1.00000000e+00, 1.00000000e+00,\n",
       "       1.00000000e+00, 1.00000000e+00, 1.00000000e+00, 1.00000000e+00,\n",
       "       1.00000000e+00, 1.00000000e+00, 1.00000000e+00, 1.00000000e+00,\n",
       "       5.67994921e-03, 2.11915994e-02, 1.04968772e-01, 1.00000000e+00,\n",
       "       1.00000000e+00, 8.25334189e-03, 1.00000000e+00, 1.84558052e-02,\n",
       "       1.00000000e+00, 9.99999999e-01, 4.76319948e-02, 1.00000000e+00,\n",
       "       1.00000000e+00, 1.00000000e+00, 1.00000000e+00, 3.46206867e-02,\n",
       "       1.00000000e+00, 4.79572586e-03, 1.39483942e-01, 1.00000000e+00,\n",
       "       5.18468345e-03, 1.00000000e+00, 1.00000000e+00, 1.00000000e+00,\n",
       "       1.00000000e+00, 8.18545624e-03, 1.00000000e+00, 8.32084219e-03,\n",
       "       1.00000000e+00, 1.00000000e+00, 1.00000000e+00, 1.00000000e+00,\n",
       "       2.04642696e-02, 1.00000000e+00, 1.00000000e+00, 1.00000000e+00,\n",
       "       8.79289778e-02, 1.00000000e+00, 1.00000000e+00, 1.00000000e+00,\n",
       "       4.59682763e-02, 2.89180838e-02, 1.00000000e+00, 1.00000000e+00,\n",
       "       1.00000000e+00, 1.00000000e+00, 1.00000000e+00, 1.32067139e-01,\n",
       "       1.00000000e+00, 1.00000000e+00, 1.00000000e+00, 1.00000000e+00,\n",
       "       1.00000000e+00, 1.00000000e+00, 1.00000000e+00, 1.00000000e+00,\n",
       "       1.00000000e+00, 1.86095142e-02, 1.00000000e+00, 1.00000000e+00,\n",
       "       1.00000000e+00, 1.00000000e+00, 1.00000000e+00, 1.00000000e+00,\n",
       "       1.00000000e+00, 1.00000000e+00, 9.99992326e-01, 1.00000000e+00,\n",
       "       1.00000000e+00, 1.00000000e+00, 1.00000000e+00, 1.00000000e+00,\n",
       "       1.00000000e+00, 9.99844514e-01, 2.72695247e-03, 1.00000000e+00,\n",
       "       1.00000000e+00, 9.99995480e-01, 1.00000000e+00, 1.22572222e-01,\n",
       "       1.00000000e+00, 1.00000000e+00, 2.11710297e-01, 4.44408432e-02,\n",
       "       1.00000000e+00, 1.00000000e+00, 3.63088570e-02, 1.00000000e+00,\n",
       "       9.99999993e-01, 1.55451694e-01, 9.99999664e-01, 1.00000000e+00,\n",
       "       9.99885081e-01, 2.44022328e-04, 3.13108757e-02, 1.00000000e+00,\n",
       "       1.00000000e+00, 1.42526189e-01, 1.25312712e-01, 1.00000000e+00,\n",
       "       1.86747589e-01, 1.00000000e+00, 7.66180715e-03, 1.78102267e-01,\n",
       "       1.00000000e+00, 1.02010299e-02, 1.00000000e+00, 1.00000000e+00,\n",
       "       1.00000000e+00, 1.16813349e-01, 2.20564761e-04, 1.00000000e+00,\n",
       "       1.00000000e+00, 1.00000000e+00, 1.00000000e+00, 2.23331770e-02,\n",
       "       1.00000000e+00, 1.71522195e-03, 9.98848614e-01, 5.64368133e-07,\n",
       "       9.98131966e-01, 1.00000000e+00, 1.83545603e-02, 1.00000000e+00,\n",
       "       1.42711043e-02, 1.00000000e+00, 4.14240264e-05, 1.92408494e-02,\n",
       "       1.00000000e+00, 1.00000000e+00, 1.00000000e+00, 1.20599886e-03,\n",
       "       1.00000000e+00, 1.00000000e+00, 1.00000000e+00, 1.00000000e+00,\n",
       "       1.00000000e+00, 1.00000000e+00, 1.00000000e+00, 1.00000000e+00,\n",
       "       1.38993928e-01, 7.49591137e-02, 1.00000000e+00, 1.00000000e+00,\n",
       "       1.00000000e+00, 1.00000000e+00, 1.00000000e+00, 1.38515354e-01,\n",
       "       1.00000000e+00, 1.00000000e+00, 1.00000000e+00, 2.33633261e-01,\n",
       "       1.00000000e+00, 6.24516767e-06, 1.00000000e+00, 4.43787371e-03,\n",
       "       1.00000000e+00, 1.00000000e+00, 1.00000000e+00, 1.00000000e+00,\n",
       "       1.00000000e+00, 9.23651793e-02, 1.00000000e+00, 1.00000000e+00,\n",
       "       2.02784429e-02, 1.00000000e+00, 1.00000000e+00, 1.00000000e+00,\n",
       "       1.00000000e+00, 4.13574587e-01, 1.00000000e+00, 1.00000000e+00,\n",
       "       1.00000000e+00, 1.00000000e+00, 1.52624550e-01, 1.00000000e+00,\n",
       "       1.00000000e+00, 1.00000000e+00, 1.00000000e+00, 1.00000000e+00,\n",
       "       1.00000000e+00, 1.00000000e+00, 1.00000000e+00, 1.00000000e+00,\n",
       "       5.14752481e-02, 1.00000000e+00, 1.00000000e+00, 2.85915842e-01,\n",
       "       1.00000000e+00, 1.00000000e+00, 1.58438767e-06, 1.00000000e+00,\n",
       "       3.79995894e-03, 1.00000000e+00, 1.00000000e+00, 1.00000000e+00,\n",
       "       1.72968375e-01, 1.00000000e+00, 1.00000000e+00, 3.10251228e-02,\n",
       "       1.00000000e+00, 1.00000000e+00, 1.00000000e+00, 8.25780603e-03,\n",
       "       1.00000000e+00, 1.00000000e+00, 1.00000000e+00, 1.00000000e+00,\n",
       "       1.00000000e+00, 1.00000000e+00, 1.00000000e+00, 2.54609794e-02])"
      ]
     },
     "execution_count": 332,
     "metadata": {},
     "output_type": "execute_result"
    }
   ],
   "source": [
    "dictv0, model=encode_and_train(df_train, y_train)\n",
    "X_dict_val=df_val.to_dict(orient='records')\n",
    "X_val=dictv0.transform(X_dict_val)\n",
    "\n",
    "y_pridected=model.predict_proba(X_val)[:, 1]\n",
    "y_pridected"
   ]
  },
  {
   "cell_type": "code",
   "execution_count": 333,
   "id": "52737ba8",
   "metadata": {},
   "outputs": [
    {
     "data": {
      "text/plain": [
       "array([0, 1, 1, 1, 1, 1, 1, 1, 1, 1, 1, 1, 1, 1, 1, 1, 0, 0, 1, 1, 1, 0,\n",
       "       0, 1, 0, 1, 1, 1, 1, 1, 1, 1, 1, 1, 1, 1, 1, 1, 0, 1, 0, 0, 1, 1,\n",
       "       1, 1, 1, 1, 1, 1, 1, 1, 0, 0, 0, 1, 1, 0, 1, 0, 1, 1, 0, 1, 1, 1,\n",
       "       1, 0, 1, 0, 0, 1, 0, 1, 1, 1, 1, 0, 1, 0, 1, 1, 1, 1, 0, 1, 1, 1,\n",
       "       0, 1, 1, 1, 0, 0, 1, 1, 1, 1, 1, 0, 1, 1, 1, 1, 1, 1, 1, 1, 1, 0,\n",
       "       1, 1, 1, 1, 1, 1, 1, 1, 1, 1, 1, 1, 1, 1, 1, 1, 0, 1, 1, 1, 1, 0,\n",
       "       1, 1, 0, 0, 1, 1, 0, 1, 1, 0, 1, 1, 1, 0, 0, 1, 1, 0, 0, 1, 0, 1,\n",
       "       0, 0, 1, 0, 1, 1, 1, 0, 0, 1, 1, 1, 1, 0, 1, 0, 1, 0, 1, 1, 0, 1,\n",
       "       0, 1, 0, 0, 1, 1, 1, 0, 1, 1, 1, 1, 1, 1, 1, 1, 0, 0, 1, 1, 1, 1,\n",
       "       1, 0, 1, 1, 1, 0, 1, 0, 1, 0, 1, 1, 1, 1, 1, 0, 1, 1, 0, 1, 1, 1,\n",
       "       1, 0, 1, 1, 1, 1, 0, 1, 1, 1, 1, 1, 1, 1, 1, 1, 0, 1, 1, 0, 1, 1,\n",
       "       0, 1, 0, 1, 1, 1, 0, 1, 1, 0, 1, 1, 1, 0, 1, 1, 1, 1, 1, 1, 1, 0])"
      ]
     },
     "execution_count": 333,
     "metadata": {},
     "output_type": "execute_result"
    }
   ],
   "source": [
    "y_pridected1=(y_pridected >=0.5).astype(int)\n",
    "y_pridected1"
   ]
  },
  {
   "cell_type": "markdown",
   "id": "6b15ca93",
   "metadata": {},
   "source": [
    "### Question 2\n",
    "What's the AUC of this model on the validation dataset? (round to 3 digits)"
   ]
  },
  {
   "cell_type": "code",
   "execution_count": 334,
   "id": "446c870c",
   "metadata": {},
   "outputs": [],
   "source": [
    "from sklearn.metrics import auc"
   ]
  },
  {
   "cell_type": "code",
   "execution_count": 335,
   "id": "ab9c0564",
   "metadata": {},
   "outputs": [],
   "source": [
    "fpr,tpr, ths=roc_curve(y_val,y_pridected1)"
   ]
  },
  {
   "cell_type": "code",
   "execution_count": 336,
   "id": "8b260d27",
   "metadata": {},
   "outputs": [
    {
     "data": {
      "text/plain": [
       "0.992"
      ]
     },
     "execution_count": 336,
     "metadata": {},
     "output_type": "execute_result"
    }
   ],
   "source": [
    "round(auc(fpr,tpr), 3)"
   ]
  },
  {
   "cell_type": "markdown",
   "id": "31da3eb3",
   "metadata": {},
   "source": [
    "### Question 3\n",
    "Now let's compute precision and recall for our model. <br>\n",
    "\n",
    "Evaluate the model on all thresholds from 0.0 to 1.0 with step 0.01 <br>\n",
    "For each threshold, compute precision and recall <br>\n",
    "Plot them <br>\n",
    "At which threshold precision and recall curves intersect?  <br>"
   ]
  },
  {
   "cell_type": "code",
   "execution_count": 337,
   "id": "b48060dd",
   "metadata": {},
   "outputs": [],
   "source": [
    "def recall_score(tp,fn):\n",
    "    return tp / (tp + fn)\n",
    "\n",
    "def precision_score(tp,fn):\n",
    "    return tp / (tp + fp)"
   ]
  },
  {
   "cell_type": "code",
   "execution_count": 338,
   "id": "1bb3aa08",
   "metadata": {},
   "outputs": [],
   "source": [
    "recall_scores = []\n",
    "precision_scores = []\n",
    "\n",
    "thresholds = np.arange(0.0, 1.0, 0.01)\n",
    "\n",
    "for t in thresholds:\n",
    "    actual_positive = (y_val == 1)\n",
    "    actual_negative = (y_val == 0)\n",
    "\n",
    "    predict_positive = (y_pridected >= t)\n",
    "    predict_negative = (y_pridected < t)\n",
    "\n",
    "    tp = (predict_positive & actual_positive).sum()\n",
    "    tn = (predict_negative & actual_negative).sum()\n",
    "\n",
    "    fp = (predict_positive & actual_negative).sum()\n",
    "    fn = (predict_negative & actual_positive).sum()\n",
    "    recall_scores.append(recall_score(tp,fn))\n",
    "    precision_scores.append(precision_score(tp,fn))\n"
   ]
  },
  {
   "cell_type": "code",
   "execution_count": 339,
   "id": "5f72376b",
   "metadata": {},
   "outputs": [],
   "source": [
    "import matplotlib.pyplot as plt\n",
    " \n"
   ]
  },
  {
   "cell_type": "code",
   "execution_count": 340,
   "id": "74bc1deb",
   "metadata": {
    "scrolled": false
   },
   "outputs": [
    {
     "data": {
      "text/plain": [
       "<matplotlib.legend.Legend at 0x1f3b9e9abb0>"
      ]
     },
     "execution_count": 340,
     "metadata": {},
     "output_type": "execute_result"
    },
    {
     "data": {
      "image/png": "[encoded data removed]",
      "text/plain": [
       "<Figure size 640x480 with 1 Axes>"
      ]
     },
     "metadata": {},
     "output_type": "display_data"
    }
   ],
   "source": [
    "plt.plot(thresholds,recall_scores , label='recall')\n",
    "plt.plot(thresholds, precision_scores, label='precision')\n",
    "plt.legend()"
   ]
  },
  {
   "cell_type": "markdown",
   "id": "7b118d4b",
   "metadata": {},
   "source": [
    "At which threshold precision and recall curves intersect? at 0.3"
   ]
  },
  {
   "cell_type": "markdown",
   "id": "7661be72",
   "metadata": {},
   "source": [
    "### Question 4\n",
    "Precision and recall are conflicting - when one grows, the other goes down. That's why they are often combined into the F1 score - a metrics that takes into account both\n",
    "<br>\n",
    "This is the formula for computing F1: <br>\n",
    "\n",
    "F1 = 2 * P * R / (P + R)  <br>\n",
    "\n",
    "Where P is precision and R is recall.  <br>\n",
    "\n",
    "Let's compute F1 for all thresholds from 0.0 to 1.0 with increment 0.01"
   ]
  },
  {
   "cell_type": "code",
   "execution_count": 341,
   "id": "a03bc7f9",
   "metadata": {},
   "outputs": [],
   "source": [
    "def F1_score(P,R):\n",
    "    F1 = 2 * P * R / (P + R)\n",
    "    return F1"
   ]
  },
  {
   "cell_type": "code",
   "execution_count": 342,
   "id": "b4ae40fd",
   "metadata": {},
   "outputs": [],
   "source": [
    "\n",
    "F1_scores= []\n",
    "for i in range(0 , len(recall_scores)):\n",
    "    F1_scores.append(F1_score(precision_scores[i], recall_scores[i]))"
   ]
  },
  {
   "cell_type": "code",
   "execution_count": 343,
   "id": "ed006f7b",
   "metadata": {},
   "outputs": [
    {
     "data": {
      "text/plain": [
       "42"
      ]
     },
     "execution_count": 343,
     "metadata": {},
     "output_type": "execute_result"
    }
   ],
   "source": [
    "np.argmax(F1_scores)"
   ]
  },
  {
   "cell_type": "code",
   "execution_count": 344,
   "id": "1c191cb9",
   "metadata": {},
   "outputs": [
    {
     "name": "stdout",
     "output_type": "stream",
     "text": [
      " F1 is maximum at threshold 0.42\n"
     ]
    }
   ],
   "source": [
    "print(f\" F1 is maximum at threshold {thresholds[np.argmax(F1_scores)]}\")"
   ]
  },
  {
   "cell_type": "code",
   "execution_count": null,
   "id": "70ea4c09",
   "metadata": {},
   "outputs": [],
   "source": []
  },
  {
   "cell_type": "markdown",
   "id": "d01aabb2",
   "metadata": {},
   "source": [
    "### Question 5\n",
    "Use the KFold class from Scikit-Learn to evaluate our model on 5 different folds: <br>\n",
    "\n",
    "- KFold(n_splits=5, shuffle=True, random_state=1)\n",
    "- Iterate over different folds of df_full_train\n",
    "- Split the data into train and validation\n",
    "- Train the model on train with these parameters: LogisticRegression(solver='liblinear', C=1.0, max_iter=1000)\n",
    "- Use AUC to evaluate the model on validation"
   ]
  },
  {
   "cell_type": "code",
   "execution_count": 345,
   "id": "8b8b1970",
   "metadata": {},
   "outputs": [],
   "source": [
    "from sklearn.model_selection import KFold"
   ]
  },
  {
   "cell_type": "code",
   "execution_count": 346,
   "id": "c3e75987",
   "metadata": {},
   "outputs": [],
   "source": [
    "kf=KFold(n_splits=5, shuffle=True, random_state=1)"
   ]
  },
  {
   "cell_type": "code",
   "execution_count": 347,
   "id": "e4ecfff2",
   "metadata": {},
   "outputs": [
    {
     "name": "stdout",
     "output_type": "stream",
     "text": [
      " AUC: 1.0\n",
      " AUC: 0.99375\n",
      " AUC: 1.0\n",
      " AUC: 1.0\n",
      " AUC: 1.0\n"
     ]
    }
   ],
   "source": [
    "scores_kfolds=[]\n",
    "for train_idx, val_idx in kf.split(df_full_train):\n",
    "    df_train=df_full_train.iloc[train_idx]\n",
    "    df_val= df_full_train.iloc[val_idx]\n",
    "    \n",
    "    y_train=df_train['target']\n",
    "    y_val=df_val['target']\n",
    "    \n",
    "    dictv0, model=encode_and_train(df_train, y_train)\n",
    "    X_dict_val=df_val.to_dict(orient='records')\n",
    "    X_val=dictv0.transform(X_dict_val)\n",
    "    y_predicted=model.predict_proba(X_val)[:,1]\n",
    "    y_predicted=(y_predicted >=0.5).astype(int)\n",
    "    fpr,tpr, ths=roc_curve(y_val,y_predicted)\n",
    "    auc_value=auc(fpr,tpr)\n",
    "    print(f\" AUC: {auc_value}\")\n",
    "    scores_kfolds.append(auc_value)\n",
    "    \n",
    "    \n",
    "\n",
    "    \n",
    "    "
   ]
  },
  {
   "cell_type": "markdown",
   "id": "d2230d65",
   "metadata": {},
   "source": [
    "- How large is standard devidation of the AUC scores across different folds?\n",
    "\n"
   ]
  },
  {
   "cell_type": "code",
   "execution_count": 348,
   "id": "fffbe993",
   "metadata": {},
   "outputs": [
    {
     "data": {
      "text/plain": [
       "0.0025"
      ]
     },
     "execution_count": 348,
     "metadata": {},
     "output_type": "execute_result"
    }
   ],
   "source": [
    "round(np.std(scores_kfolds) , 4)"
   ]
  },
  {
   "cell_type": "markdown",
   "id": "aba8d6a1",
   "metadata": {},
   "source": [
    "### Question 6\n",
    "Now let's use 5-Fold cross-validation to find the best parameter C  <br>\n",
    "\n",
    "- Iterate over the following C values: [0.01, 0.1, 1, 10]\n",
    "- Initialize KFold with the same parameters as previously\n",
    "- Use these parametes for the model: LogisticRegression(solver='liblinear', C=C, max_iter=1000)\n",
    "- Compute the mean score as well as the std (round the mean and std to 3 decimal digits)"
   ]
  },
  {
   "cell_type": "code",
   "execution_count": 349,
   "id": "b7f7df2b",
   "metadata": {},
   "outputs": [],
   "source": [
    "def encode_and_train (df1, y , c):\n",
    "    dictVec=DictVectorizer(sparse=False)\n",
    "    X_dict=df1.to_dict(orient='records')\n",
    "    X_train=dictVec.fit_transform(X_dict)\n",
    "    \n",
    "    logR=LogisticRegression(solver='liblinear', C=c, max_iter=1000)\n",
    "    logR.fit(X_train,y_train)\n",
    "    \n",
    "    return dictVec, logR"
   ]
  },
  {
   "cell_type": "code",
   "execution_count": 350,
   "id": "405cc602",
   "metadata": {},
   "outputs": [
    {
     "name": "stdout",
     "output_type": "stream",
     "text": [
      " AUC: 0.9791666666666667\n",
      " AUC: 0.98125\n",
      " AUC: 0.9848484848484849\n",
      " AUC: 0.9908536585365854\n",
      " AUC: 0.9970238095238095\n",
      " AUC: 0.9791666666666667\n",
      " AUC: 0.984375\n",
      " AUC: 0.9848484848484849\n",
      " AUC: 0.9939024390243902\n",
      " AUC: 1.0\n",
      " AUC: 1.0\n",
      " AUC: 0.99375\n",
      " AUC: 1.0\n",
      " AUC: 1.0\n",
      " AUC: 1.0\n",
      " AUC: 1.0\n",
      " AUC: 1.0\n",
      " AUC: 1.0\n",
      " AUC: 1.0\n",
      " AUC: 1.0\n"
     ]
    }
   ],
   "source": [
    "params_scores_std=[]\n",
    "params_scores_mean=[]\n",
    "params_scores=[]\n",
    "\n",
    "for i in  [0.01, 0.1, 1, 10]:\n",
    "    scores_kfolds=[]\n",
    "\n",
    "    for train_idx, val_idx in kf.split(df_full_train):\n",
    "        df_train=df_full_train.iloc[train_idx]\n",
    "        df_val= df_full_train.iloc[val_idx]\n",
    "\n",
    "        y_train=df_train['target']\n",
    "        y_val=df_val['target']\n",
    "\n",
    "        dictv0, model=encode_and_train(df_train, y_train,i)\n",
    "        X_dict_val=df_val.to_dict(orient='records')\n",
    "        X_val=dictv0.transform(X_dict_val)\n",
    "        y_predicted=model.predict_proba(X_val)[:,1]\n",
    "        y_predicted=(y_predicted >=0.5).astype(int)\n",
    "        fpr,tpr, ths=roc_curve(y_val,y_predicted)\n",
    "        auc_value=auc(fpr,tpr)\n",
    "        print(f\" AUC: {auc_value}\")\n",
    "        scores_kfolds.append(auc_value)\n",
    "    \n",
    "    params_scores.append((round(np.std(scores_kfolds) , 3) , round(np.mean(scores_kfolds) , 3)) )\n",
    "    params_scores_std.append(round(np.std(scores_kfolds) , 3))\n",
    "    params_scores_mean.append(round(np.mean(scores_kfolds) , 3))\n",
    "    "
   ]
  },
  {
   "cell_type": "code",
   "execution_count": 351,
   "id": "f18c6f67",
   "metadata": {},
   "outputs": [
    {
     "data": {
      "text/plain": [
       "[(0.007, 0.987), (0.007, 0.988), (0.002, 0.999), (0.0, 1.0)]"
      ]
     },
     "execution_count": 351,
     "metadata": {},
     "output_type": "execute_result"
    }
   ],
   "source": [
    "params_scores"
   ]
  },
  {
   "cell_type": "code",
   "execution_count": 352,
   "id": "1efb4e9a",
   "metadata": {},
   "outputs": [
    {
     "data": {
      "text/plain": [
       "[0.007, 0.007, 0.002, 0.0]"
      ]
     },
     "execution_count": 352,
     "metadata": {},
     "output_type": "execute_result"
    }
   ],
   "source": [
    "params_scores_std"
   ]
  },
  {
   "cell_type": "code",
   "execution_count": 353,
   "id": "b4a1949d",
   "metadata": {},
   "outputs": [
    {
     "data": {
      "text/plain": [
       "[0.987, 0.988, 0.999, 1.0]"
      ]
     },
     "execution_count": 353,
     "metadata": {},
     "output_type": "execute_result"
    }
   ],
   "source": [
    "params_scores_mean"
   ]
  },
  {
   "cell_type": "markdown",
   "id": "458b7311",
   "metadata": {},
   "source": [
    "Which C leads to the best mean score?"
   ]
  },
  {
   "cell_type": "code",
   "execution_count": 354,
   "id": "6e3588d9",
   "metadata": {},
   "outputs": [
    {
     "data": {
      "text/plain": [
       "10"
      ]
     },
     "execution_count": 354,
     "metadata": {},
     "output_type": "execute_result"
    }
   ],
   "source": [
    "[0.01, 0.1, 1, 10][np.argmax(params_scores_mean)]"
   ]
  },
  {
   "cell_type": "markdown",
   "id": "36d9ea1a",
   "metadata": {},
   "source": [
    "C= 10 is the answer"
   ]
  },
  {
   "cell_type": "code",
   "execution_count": null,
   "id": "0a4f82f3",
   "metadata": {},
   "outputs": [],
   "source": []
  }
 ],
 "metadata": {
  "kernelspec": {
   "display_name": "Python 3 (ipykernel)",
   "language": "python",
   "name": "python3"
  },
  "language_info": {
   "codemirror_mode": {
    "name": "ipython",
    "version": 3
   },
   "file_extension": ".py",
   "mimetype": "text/x-python",
   "name": "python",
   "nbconvert_exporter": "python",
   "pygments_lexer": "ipython3",
   "version": "3.9.12"
  }
 },
 "nbformat": 4,
 "nbformat_minor": 5
}
